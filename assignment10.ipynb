{
  "nbformat": 4,
  "nbformat_minor": 0,
  "metadata": {
    "colab": {
      "provenance": [],
      "authorship_tag": "ABX9TyPTowIAIZDqpriEZ5L7m71P",
      "include_colab_link": true
    },
    "kernelspec": {
      "name": "python3",
      "display_name": "Python 3"
    },
    "language_info": {
      "name": "python"
    }
  },
  "cells": [
    {
      "cell_type": "markdown",
      "metadata": {
        "id": "view-in-github",
        "colab_type": "text"
      },
      "source": [
        "<a href=\"https://colab.research.google.com/github/lizzg13/datastructures/blob/main/assignment10.ipynb\" target=\"_parent\"><img src=\"https://colab.research.google.com/assets/colab-badge.svg\" alt=\"Open In Colab\"/></a>"
      ]
    },
    {
      "cell_type": "code",
      "execution_count": 1,
      "metadata": {
        "colab": {
          "base_uri": "https://localhost:8080/"
        },
        "id": "TbgXnZV9MrV1",
        "outputId": "2715a69e-d7e8-425b-e2f2-72d51dde626b"
      },
      "outputs": [
        {
          "output_type": "stream",
          "name": "stdout",
          "text": [
            "Writing my_program.cpp\n"
          ]
        }
      ],
      "source": [
        "%%writefile my_program.cpp\n",
        "//  main.cpp\n",
        "//  assignment10\n",
        "//\n",
        "//   Lizbeth Garcia\n",
        "//\n",
        "\n",
        "#include <iostream>\n",
        "#include <vector>\n",
        "#include <queue>\n",
        "#include <stack>\n",
        "using namespace std;\n",
        "\n",
        "// Graph class\n",
        "class Graph {\n",
        "private:\n",
        "    int numVertices;\n",
        "    vector<vector<int>> adjList;\n",
        "\n",
        "public:\n",
        "\n",
        "    Graph(int vertices) {\n",
        "        numVertices = vertices;\n",
        "        adjList.resize(vertices);\n",
        "    }\n",
        "\n",
        "    void addEdge(int src, int dest) {\n",
        "        adjList[src].push_back(dest);\n",
        "        adjList[dest].push_back(src); // Assuming an undirected graph\n",
        "    }\n",
        "\n",
        "    void bfs(int start) {\n",
        "        vector<bool> visited(numVertices, false); // Track visited vertices\n",
        "        queue<int> q;\n",
        "\n",
        "        q.push(start);\n",
        "        visited[start] = true;\n",
        "\n",
        "        cout << \"BFS Traversal: \";\n",
        "        while (!q.empty()) {\n",
        "            int w = q.front();\n",
        "            q.pop();\n",
        "            cout << w << \" \";\n",
        "\n",
        "            for (int u : adjList[w]) {\n",
        "                if (!visited[u]) {\n",
        "                    visited[u] = true;\n",
        "                    q.push(u);\n",
        "                }\n",
        "            }\n",
        "        }\n",
        "        cout << endl;\n",
        "    }\n",
        "\n",
        "    void dfsIterative(int start) {\n",
        "        vector<bool> visited(numVertices, false);\n",
        "        stack<int> s;\n",
        "\n",
        "        s.push(start);\n",
        "        visited[start] = true;\n",
        "\n",
        "        cout << \"DFS Iterative Traversal: \";\n",
        "        while (!s.empty()) {\n",
        "            int w = s.top();\n",
        "            s.pop();\n",
        "            cout << w << \" \";\n",
        "\n",
        "            for (int u : adjList[w]) {\n",
        "                if (!visited[u]) {\n",
        "                    visited[u] = true;\n",
        "                    s.push(u);\n",
        "                }\n",
        "            }\n",
        "        }\n",
        "        cout << endl;\n",
        "    }\n",
        "\n",
        "    void dfsRecursiveUtil(int v, vector<bool>& visited) {\n",
        "        visited[v] = true;\n",
        "        cout << v << \" \";\n",
        "\n",
        "        for (int u : adjList[v]) {\n",
        "            if (!visited[u])\n",
        "                dfsRecursiveUtil(u, visited);\n",
        "        }\n",
        "    }\n",
        "\n",
        "    void dfsRecursive(int start) {\n",
        "        vector<bool> visited(numVertices, false);\n",
        "        cout << \"DFS Recursive Traversal: \";\n",
        "        dfsRecursiveUtil(start, visited);\n",
        "        cout << endl;\n",
        "    }\n",
        "};\n",
        "\n",
        "int main() {\n",
        "    Graph g(6);\n",
        "    g.addEdge(0, 1);\n",
        "    g.addEdge(0, 2);\n",
        "    g.addEdge(1, 3);\n",
        "    g.addEdge(1, 4);\n",
        "    g.addEdge(2, 5);\n",
        "\n",
        "    g.bfs(0);\n",
        "    g.dfsIterative(0);\n",
        "    g.dfsRecursive(0);\n",
        "\n",
        "    return 0;\n",
        "}\n"
      ]
    }
  ]
}