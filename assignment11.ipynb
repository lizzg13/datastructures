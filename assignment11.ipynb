{
  "nbformat": 4,
  "nbformat_minor": 0,
  "metadata": {
    "colab": {
      "provenance": [],
      "authorship_tag": "ABX9TyOxRwcmeOpPaxGnXPcXIfB6",
      "include_colab_link": true
    },
    "kernelspec": {
      "name": "python3",
      "display_name": "Python 3"
    },
    "language_info": {
      "name": "python"
    }
  },
  "cells": [
    {
      "cell_type": "markdown",
      "metadata": {
        "id": "view-in-github",
        "colab_type": "text"
      },
      "source": [
        "<a href=\"https://colab.research.google.com/github/lizzg13/datastructures/blob/main/assignment11.ipynb\" target=\"_parent\"><img src=\"https://colab.research.google.com/assets/colab-badge.svg\" alt=\"Open In Colab\"/></a>"
      ]
    },
    {
      "cell_type": "code",
      "execution_count": null,
      "metadata": {
        "id": "jaCmFOUDTuy2"
      },
      "outputs": [],
      "source": [
        "%%writefile my_program.cpp\n",
        "//  main.cpp\n",
        "//  assignment11\n",
        "//\n",
        "//   Lizbeth Garcia\n",
        "//\n",
        "\n",
        "#include <iostream>\n",
        "#include <vector>\n",
        "#include <queue>\n",
        "#include <limits>\n",
        "using namespace std;\n",
        "\n",
        "const int INF = numeric_limits<int>::max();\n",
        "\n",
        "\n",
        "void dijkstra(const vector<vector<pair<int, int>>>& graph, int start) {\n",
        "    int n = graph.size();\n",
        "    vector<int> dist(n, INF);\n",
        "    vector<int> parent(n, -1);\n",
        "    priority_queue<pair<int, int>, vector<pair<int, int>>, greater<>> pq;\n",
        "\n",
        "    dist[start] = 0;\n",
        "    pq.push({0, start});\n",
        "\n",
        "    while (!pq.empty()) {\n",
        "        int currentDist = pq.top().first;\n",
        "        int u = pq.top().second;\n",
        "        pq.pop();\n",
        "\n",
        "        if (currentDist > dist[u]) continue;\n",
        "\n",
        "        for (const auto& neighbor : graph[u]) {\n",
        "            int v = neighbor.first;\n",
        "            int weight = neighbor.second;\n",
        "\n",
        "            if (dist[u] + weight < dist[v]) {\n",
        "                dist[v] = dist[u] + weight;\n",
        "                parent[v] = u;\n",
        "                pq.push({dist[v], v});\n",
        "            }\n",
        "        }\n",
        "    }\n",
        "\n",
        "    cout << \"Vertex\\tDistance from Source\" << endl;\n",
        "    for (int i = 0; i < n; i++) {\n",
        "        cout << i << \"\\t\" << (dist[i] == INF ? \"INF\" : to_string(dist[i])) << endl;\n",
        "    }\n",
        "\n",
        "    cout << \"\\nShortest Path  :\" << endl;\n",
        "    for (int i = 0; i < n; i++) {\n",
        "        cout << \"Vertex \" << i << \" -> Parent \" << parent[i] << endl;\n",
        "    }\n",
        "}\n",
        "\n",
        "int main() {\n",
        "    int n = 6; // vertices\n",
        "    vector<vector<pair<int, int>>> graph(n);\n",
        "\n",
        "    graph[0].emplace_back(1, 4);\n",
        "    graph[0].emplace_back(2, 1);\n",
        "    graph[1].emplace_back(3, 1);\n",
        "    graph[2].emplace_back(1, 2);\n",
        "    graph[2].emplace_back(3, 5);\n",
        "    graph[3].emplace_back(4, 3);\n",
        "    graph[4].emplace_back(5, 1);\n",
        "\n",
        "    int start = 0;\n",
        "    cout << \"Dijkstra's Algorithm:\" << endl;\n",
        "    dijkstra(graph, start);\n",
        "\n",
        "    return 0;\n",
        "}\n"
      ]
    }
  ]
}