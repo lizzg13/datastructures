{
  "nbformat": 4,
  "nbformat_minor": 0,
  "metadata": {
    "colab": {
      "provenance": [],
      "authorship_tag": "ABX9TyMEIonhW6c2QFSho26R7Csw",
      "include_colab_link": true
    },
    "kernelspec": {
      "name": "python3",
      "display_name": "Python 3"
    },
    "language_info": {
      "name": "python"
    }
  },
  "cells": [
    {
      "cell_type": "markdown",
      "metadata": {
        "id": "view-in-github",
        "colab_type": "text"
      },
      "source": [
        "<a href=\"https://colab.research.google.com/github/lizzg13/datastructures/blob/main/assignment12.ipynb\" target=\"_parent\"><img src=\"https://colab.research.google.com/assets/colab-badge.svg\" alt=\"Open In Colab\"/></a>"
      ]
    },
    {
      "cell_type": "code",
      "execution_count": 5,
      "metadata": {
        "colab": {
          "base_uri": "https://localhost:8080/"
        },
        "id": "CHxb-sy1sxXY",
        "outputId": "daf990fc-4a17-4b24-e738-d2e93aab4abf"
      },
      "outputs": [
        {
          "output_type": "stream",
          "name": "stdout",
          "text": [
            "Overwriting main.cpp\n"
          ]
        }
      ],
      "source": [
        "%%writefile main.cpp\n",
        "//  main.cpp\n",
        "//  assignment12\n",
        "//\n",
        "//   Lizbeth Garcia\n",
        "//\n",
        "\n",
        "#include <iostream>\n",
        "#include <vector>\n",
        "#include <climits>\n",
        "using namespace std;\n",
        "\n",
        "int minKey(const vector<int>& key, const vector<bool>& mstSet, int n) {\n",
        "    int min = INT_MAX, minIndex;\n",
        "\n",
        "    for (int v = 0; v < n; v++) {\n",
        "        if (!mstSet[v] && key[v] < min) {\n",
        "            min = key[v];\n",
        "            minIndex = v;\n",
        "        }\n",
        "    }\n",
        "\n",
        "    return minIndex;\n",
        "}\n",
        "\n",
        "//  code of prim's algorithm\n",
        "void primMST(const vector<vector<int>>& graph, int n) {\n",
        "    vector<int> parent(n, -1);\n",
        "    vector<int> key(n, INT_MAX);\n",
        "    vector<bool> mstSet(n, false);\n",
        "\n",
        "    key[0] = 0;\n",
        "    parent[0] = -1;\n",
        "\n",
        "    for (int count = 0; count < n - 1; count++) {\n",
        "        int u = minKey(key, mstSet, n);\n",
        "\n",
        "        mstSet[u] = true;\n",
        "\n",
        "        for (int v = 0; v < n; v++) {\n",
        "            if (graph[u][v] != 0 && !mstSet[v] && graph[u][v] < key[v]) {\n",
        "                key[v] = graph[u][v];\n",
        "                parent[v] = u;\n",
        "            }\n",
        "        }\n",
        "    }\n",
        "\n",
        "    cout << \"Edge \\tWeight\" << endl;\n",
        "    for (int i = 1; i < n; i++) {\n",
        "        cout << parent[i] << \" - \" << i << \" \\t\" << graph[i][parent[i]] << endl;\n",
        "    }\n",
        "}\n",
        "\n",
        "int main() {\n",
        "    int n = 9;\n",
        "    vector<vector<int>> graph = {\n",
        "        {0, 4, 0, 0, 0, 0, 0, 0, 0},\n",
        "        {4, 0, 8, 2, 0, 0, 0, 0, 0},\n",
        "        {0, 8, 0, 1, 2, 0, 0, 0, 0},\n",
        "        {0, 2, 1, 0, 0, 1, 0, 0, 5},\n",
        "        {0, 0, 2, 0, 0, 3, 0, 9, 0},\n",
        "        {0, 0, 0, 1, 3, 0, 5, 0, 8},\n",
        "        {0, 0, 0, 0, 0, 5, 0, 6, 0},\n",
        "        {0, 0, 0, 0, 9, 0, 6, 0, 6},\n",
        "        {0, 0, 0, 5, 0, 8, 0, 6, 0}\n",
        "    };\n",
        "\n",
        "    cout << \"MST edges and weights:\" << endl;\n",
        "    primMST(graph, n);\n",
        "\n",
        "    return 0;\n",
        "}"
      ]
    }
  ]
}