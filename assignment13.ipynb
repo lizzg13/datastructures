{
  "nbformat": 4,
  "nbformat_minor": 0,
  "metadata": {
    "colab": {
      "provenance": [],
      "authorship_tag": "ABX9TyMAVJxpHE5XIXGHoHWj3G80",
      "include_colab_link": true
    },
    "kernelspec": {
      "name": "python3",
      "display_name": "Python 3"
    },
    "language_info": {
      "name": "python"
    }
  },
  "cells": [
    {
      "cell_type": "markdown",
      "metadata": {
        "id": "view-in-github",
        "colab_type": "text"
      },
      "source": [
        "<a href=\"https://colab.research.google.com/github/lizzg13/datastructures/blob/main/assignment13.ipynb\" target=\"_parent\"><img src=\"https://colab.research.google.com/assets/colab-badge.svg\" alt=\"Open In Colab\"/></a>"
      ]
    },
    {
      "cell_type": "code",
      "execution_count": null,
      "metadata": {
        "id": "lSlP2tUqyysO"
      },
      "outputs": [],
      "source": [
        "\n",
        "%%writefile my_program.cpp//  main.cpp\n",
        "//  assignment13\n",
        "//\n",
        "//   Lizbeth Garcia\n",
        "//\n",
        "\n",
        "#include <iostream>\n",
        "#include <unordered_set>\n",
        "#include <vector>\n",
        "using namespace std;\n",
        "\n",
        "int largestConsecutiveSubset(const vector<int>& nums) {\n",
        "    unordered_set<int> numSet(nums.begin(), nums.end());\n",
        "    int longestStreak = 0;\n",
        "\n",
        "    for (int num : nums) {\n",
        "        if (numSet.find(num - 1) == numSet.end()) {\n",
        "            int currentNum = num;\n",
        "            int currentStreak = 1;\n",
        "\n",
        "            while (numSet.find(currentNum + 1) != numSet.end()) {\n",
        "                currentNum += 1;\n",
        "                currentStreak += 1;\n",
        "            }\n",
        "\n",
        "            longestStreak = max(longestStreak, currentStreak);\n",
        "        }\n",
        "    }\n",
        "\n",
        "    return longestStreak;\n",
        "}\n",
        "\n",
        "int main() {\n",
        "    vector<int> inputNumbers = {1, 3, 8, 14, 4, 10, 2, 11};\n",
        "    cout << \"length of the largest subset with consecutive numbers: \"\n",
        "         << largestConsecutiveSubset(inputNumbers) << endl;\n",
        "    return 0;\n",
        "}\n"
      ]
    }
  ]
}