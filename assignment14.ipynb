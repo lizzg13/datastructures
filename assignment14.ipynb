{
  "nbformat": 4,
  "nbformat_minor": 0,
  "metadata": {
    "colab": {
      "provenance": [],
      "authorship_tag": "ABX9TyNf3d/T7GgaQZDxuZ+qZaq5",
      "include_colab_link": true
    },
    "kernelspec": {
      "name": "python3",
      "display_name": "Python 3"
    },
    "language_info": {
      "name": "python"
    }
  },
  "cells": [
    {
      "cell_type": "markdown",
      "metadata": {
        "id": "view-in-github",
        "colab_type": "text"
      },
      "source": [
        "<a href=\"https://colab.research.google.com/github/lizzg13/datastructures/blob/main/assignment14.ipynb\" target=\"_parent\"><img src=\"https://colab.research.google.com/assets/colab-badge.svg\" alt=\"Open In Colab\"/></a>"
      ]
    },
    {
      "cell_type": "code",
      "execution_count": 1,
      "metadata": {
        "colab": {
          "base_uri": "https://localhost:8080/"
        },
        "id": "3HERfTHzr5yO",
        "outputId": "1f1e8ac4-bed2-44cc-ca26-0a8cc6785a7f"
      },
      "outputs": [
        {
          "output_type": "stream",
          "name": "stdout",
          "text": [
            "Writing my_program.cpp\n"
          ]
        }
      ],
      "source": [
        "%%writefile my_program.cpp\n",
        "\n",
        "//\n",
        "//  main.cpp\n",
        "//  assignment14\n",
        "//\n",
        "//   Lizbeth Garcia\n",
        "//\n",
        "\n",
        "#include <iostream>\n",
        "#include <vector>\n",
        "using namespace std;\n",
        "\n",
        "void merge(vector<int>& a, vector<int>& b, int left, int mid, int right) {\n",
        "    int i = left, j = mid + 1, k = left;\n",
        "\n",
        "    while (i <= mid && j <= right) {\n",
        "        if (a[i] <= a[j]) {\n",
        "            b[k++] = a[i++];\n",
        "        } else {\n",
        "            b[k++] = a[j++];\n",
        "        }\n",
        "    }\n",
        "\n",
        "    while (i <= mid) {\n",
        "        b[k++] = a[i++];\n",
        "    }\n",
        "\n",
        "    while (j <= right) {\n",
        "        b[k++] = a[j++];\n",
        "    }\n",
        "}\n",
        "\n",
        "void copy(const vector<int>& b, vector<int>& a, int left, int right) {\n",
        "    for (int i = left; i <= right; i++) {\n",
        "        a[i] = b[i];\n",
        "    }\n",
        "}\n",
        "\n",
        "void mergeSort(vector<int>& a, vector<int>& b, int left, int right) {\n",
        "    if (left < right) {\n",
        "        int mid = (left + right) / 2;\n",
        "\n",
        "        mergeSort(a, b, left, mid);\n",
        "        mergeSort(a, b, mid + 1, right);\n",
        "        merge(a, b, left, mid, right);\n",
        "        copy(b, a, left, right);\n",
        "    }\n",
        "}\n",
        "\n",
        "int binarySearch(const vector<int>& a, int target) {\n",
        "    int left = 0, right = a.size() - 1;\n",
        "\n",
        "    while (left <= right) {\n",
        "        int mid = left + (right - left) / 2;\n",
        "\n",
        "        if (a[mid] == target) {\n",
        "            return mid;\n",
        "        } else if (a[mid] < target) {\n",
        "            left = mid + 1;\n",
        "        } else {\n",
        "            right = mid - 1;\n",
        "        }\n",
        "    }\n",
        "    return -1;\n",
        "}\n",
        "\n",
        "int main() {\n",
        "    vector<int> a = {38, 27, 43, 3, 9, 82, 10};\n",
        "    int n = a.size();\n",
        "    vector<int> b(n);\n",
        "\n",
        "    mergeSort(a, b, 0, n - 1);\n",
        "\n",
        "    cout << \"Sorted array: \";\n",
        "    for (int num : a) {\n",
        "        cout << num << \" \";\n",
        "    }\n",
        "    cout << endl;\n",
        "\n",
        "    int target = 43;\n",
        "    int result = binarySearch(a, target);\n",
        "\n",
        "    if (result != -1) {\n",
        "        cout << \"Element \" << target << \" found at index \" << result << \".\" << endl;\n",
        "    } else {\n",
        "        cout << \"Element \" << target << \" not found.\" << endl;\n",
        "    }\n",
        "\n",
        "    return 0;\n",
        "}\n",
        "\n"
      ]
    }
  ]
}