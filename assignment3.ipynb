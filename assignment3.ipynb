{
  "nbformat": 4,
  "nbformat_minor": 0,
  "metadata": {
    "colab": {
      "provenance": [],
      "authorship_tag": "ABX9TyNjoZ36b1HVVa+LwtXu1rEm",
      "include_colab_link": true
    },
    "kernelspec": {
      "name": "python3",
      "display_name": "Python 3"
    },
    "language_info": {
      "name": "python"
    }
  },
  "cells": [
    {
      "cell_type": "markdown",
      "metadata": {
        "id": "view-in-github",
        "colab_type": "text"
      },
      "source": [
        "<a href=\"https://colab.research.google.com/github/lizzg13/datastructures/blob/main/assignment3.ipynb\" target=\"_parent\"><img src=\"https://colab.research.google.com/assets/colab-badge.svg\" alt=\"Open In Colab\"/></a>"
      ]
    },
    {
      "cell_type": "code",
      "execution_count": 6,
      "metadata": {
        "colab": {
          "base_uri": "https://localhost:8080/"
        },
        "id": "a06OO4ptDefk",
        "outputId": "c8ee4a0c-3dbd-4036-cca2-206c44c4a624"
      },
      "outputs": [
        {
          "output_type": "stream",
          "name": "stdout",
          "text": [
            "Overwriting file.cpp\n"
          ]
        }
      ],
      "source": [
        "%%writefile file.cpp\n",
        "\n",
        "#include <iostream>\n",
        "\n",
        "using namespace std;\n",
        "\n",
        "struct Node {\n",
        "    int data;\n",
        "    Node* next;\n",
        "\n",
        "    Node(int val) : data(val), next(nullptr) {}\n",
        "};\n",
        "\n",
        "class SinglyLinkedList {\n",
        "private:\n",
        "    Node* head;\n",
        "\n",
        "public:\n",
        "    SinglyLinkedList() : head(nullptr) {}\n",
        "\n",
        "    void Push(int value) {\n",
        "        Node* newNode = new Node(value);\n",
        "        newNode->next = head;\n",
        "        head = newNode;\n",
        "    }\n",
        "\n",
        "    int TopandPop() {\n",
        "        if (head == nullptr) {\n",
        "            cout << \"List is empty.\" << endl;\n",
        "            return -1;\n",
        "        }\n",
        "\n",
        "        int topValue = head->data;\n",
        "        Node* temp = head;\n",
        "        head = head->next;\n",
        "        delete temp;\n",
        "        return topValue;\n",
        "    }\n",
        "\n",
        "    void Display() const {\n",
        "        Node* current = head;\n",
        "        while (current) {\n",
        "            cout << current->data << \" \";\n",
        "            current = current->next;\n",
        "        }\n",
        "        cout << endl;\n",
        "    }\n",
        "\n",
        "    ~SinglyLinkedList() {\n",
        "        while (head) {\n",
        "            TopandPop();\n",
        "        }\n",
        "    }\n",
        "};\n",
        "\n",
        "int main() {\n",
        "    SinglyLinkedList list;\n",
        "\n",
        "    list.Push(10);\n",
        "    list.Push(20);\n",
        "    list.Push(30);\n",
        "\n",
        "    cout << \"Current List: \";\n",
        "    list.Display();  //  display: 30 20 10\n",
        "\n",
        "    cout << \"Top and Pop: \" << list.TopandPop() << endl;  //  return 30\n",
        "    cout << \"Current List after pop: \";\n",
        "    list.Display();\n",
        "\n",
        "    cout << \"Top and Pop: \" << list.TopandPop() << endl;  //  return 20\n",
        "    cout << \"Top and Pop: \" << list.TopandPop() << endl;  //  return 10\n",
        "    cout << \"Top and Pop: \" << list.TopandPop() << endl;\n",
        "    return 0;\n",
        "}\n",
        "\n",
        "\n",
        "\n",
        "\n",
        ""
      ]
    }
  ]
}