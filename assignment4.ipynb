{
  "nbformat": 4,
  "nbformat_minor": 0,
  "metadata": {
    "colab": {
      "provenance": [],
      "authorship_tag": "ABX9TyOWUPJA7cGSXzynoGDv75na",
      "include_colab_link": true
    },
    "kernelspec": {
      "name": "python3",
      "display_name": "Python 3"
    },
    "language_info": {
      "name": "python"
    }
  },
  "cells": [
    {
      "cell_type": "markdown",
      "metadata": {
        "id": "view-in-github",
        "colab_type": "text"
      },
      "source": [
        "<a href=\"https://colab.research.google.com/github/lizzg13/datastructures/blob/main/assignment4.ipynb\" target=\"_parent\"><img src=\"https://colab.research.google.com/assets/colab-badge.svg\" alt=\"Open In Colab\"/></a>"
      ]
    },
    {
      "cell_type": "code",
      "execution_count": 1,
      "metadata": {
        "colab": {
          "base_uri": "https://localhost:8080/"
        },
        "id": "1-C7I1t_MINp",
        "outputId": "44928998-08f9-4d20-9c01-6a6ad374821d"
      },
      "outputs": [
        {
          "output_type": "stream",
          "name": "stdout",
          "text": [
            "Writing file.cpp\n"
          ]
        }
      ],
      "source": [
        "%%writefile file.cpp\n",
        "#include <iostream>\n",
        "#include <stdexcept>\n",
        "\n",
        "using namespace std;\n",
        "\n",
        "struct QueueNode {\n",
        "    int data;\n",
        "    QueueNode* next;\n",
        "\n",
        "    QueueNode(int value) : data(value), next(nullptr) {}\n",
        "};\n",
        "\n",
        "class Queue {\n",
        "private:\n",
        "    QueueNode* backPtr;\n",
        "\n",
        "public:\n",
        "    Queue() : backPtr(nullptr) {}\n",
        "\n",
        "\n",
        "    void enqueue(int newItem) {\n",
        "        QueueNode* newNode = new QueueNode(newItem);\n",
        "        if (backPtr == nullptr) {\n",
        "            backPtr = newNode;\n",
        "            backPtr->next = backPtr;\n",
        "        } else {\n",
        "            newNode->next = backPtr->next;\n",
        "            backPtr->next = newNode;\n",
        "            backPtr = newNode;\n",
        "        }\n",
        "    }\n",
        "\n",
        "    int dequeue() {\n",
        "        if (backPtr == nullptr) {\n",
        "            throw runtime_error(\"The queue is empty. \");\n",
        "        }\n",
        "\n",
        "        QueueNode* frontNode = backPtr->next;\n",
        "        int frontValue = frontNode->data;\n",
        "\n",
        "        if (frontNode == backPtr) {\n",
        "            delete frontNode;\n",
        "            backPtr = nullptr;\n",
        "        } else {\n",
        "            backPtr->next = frontNode->next;\n",
        "            delete frontNode;\n",
        "        }\n",
        "\n",
        "        return frontValue;\n",
        "    }\n",
        "\n",
        "\n",
        "    int getFront() {\n",
        "        if (backPtr == nullptr) {\n",
        "            throw runtime_error(\"The queue is empty.\");\n",
        "        }\n",
        "        return backPtr->next->data; // Get front value\n",
        "    }\n",
        "\n",
        "    ~Queue() {\n",
        "        while (backPtr != nullptr) {\n",
        "            dequeue();\n",
        "        }\n",
        "    }\n",
        "};\n",
        "\n",
        "int main() {\n",
        "    Queue q;\n",
        "\n",
        "    q.enqueue(10);\n",
        "    q.enqueue(20);\n",
        "    q.enqueue(30);\n",
        "\n",
        "    try {\n",
        "        cout << \"Front of queue: \" << q.getFront() << endl; //10\n",
        "        cout << \"Dequeued: \" << q.dequeue() << endl; //10\n",
        "        cout << \"Front of queue: \" << q.getFront() << endl; //20\n",
        "    } catch (const runtime_error& e) {\n",
        "        cout << e.what() << endl;\n",
        "    }\n",
        "\n",
        "    return 0;\n",
        "}\n"
      ]
    }
  ]
}