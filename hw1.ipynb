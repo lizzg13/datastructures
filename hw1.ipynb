{
  "nbformat": 4,
  "nbformat_minor": 0,
  "metadata": {
    "colab": {
      "provenance": [],
      "authorship_tag": "ABX9TyPXBJi62OgYfi68sBvnT8U3",
      "include_colab_link": true
    },
    "kernelspec": {
      "name": "python3",
      "display_name": "Python 3"
    },
    "language_info": {
      "name": "python"
    }
  },
  "cells": [
    {
      "cell_type": "markdown",
      "metadata": {
        "id": "view-in-github",
        "colab_type": "text"
      },
      "source": [
        "<a href=\"https://colab.research.google.com/github/lizzg13/datastructures/blob/main/hw1.ipynb\" target=\"_parent\"><img src=\"https://colab.research.google.com/assets/colab-badge.svg\" alt=\"Open In Colab\"/></a>"
      ]
    },
    {
      "cell_type": "code",
      "execution_count": 3,
      "metadata": {
        "colab": {
          "base_uri": "https://localhost:8080/"
        },
        "id": "YbPvn1bTzg1w",
        "outputId": "8f5c3dd3-252b-48ac-a1ac-eebcf29bec92"
      },
      "outputs": [
        {
          "output_type": "stream",
          "name": "stdout",
          "text": [
            "Overwriting my_program.cpp\n"
          ]
        }
      ],
      "source": [
        "\n",
        "%%writefile my_program.cpp\n",
        "\n",
        "//\n",
        "//  main.cpp\n",
        "//  data\n",
        "//\n",
        "\n",
        "#include <iostream>\n",
        "\n",
        "\n",
        "struct node {\n",
        "    int data;\n",
        "    node* link;\n",
        "};\n",
        "\n",
        "int main() {\n",
        "    //  first node\n",
        "    node* head = new node;\n",
        "    head->data = 35;\n",
        "    head->link = nullptr;\n",
        "\n",
        "    //   second node\n",
        "    node* current = new node;\n",
        "    current->data = 75;\n",
        "    current->link = nullptr;\n",
        "    head->link = current;\n",
        "\n",
        "    //   third node\n",
        "    current = new node;\n",
        "    current->data = 2;\n",
        "    current->link = nullptr;\n",
        "    head->link->link = current;\n",
        "\n",
        "\n",
        "    current = head->link->link;\n",
        "    delete head->link;\n",
        "    delete head;\n",
        "    delete current;\n",
        "\n",
        "    return 0;\n",
        "}\n"
      ]
    }
  ]
}